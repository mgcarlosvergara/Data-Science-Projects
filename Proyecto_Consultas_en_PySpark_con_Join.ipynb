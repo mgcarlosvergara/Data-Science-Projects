{
  "nbformat": 4,
  "nbformat_minor": 0,
  "metadata": {
    "colab": {
      "private_outputs": true,
      "provenance": []
    },
    "kernelspec": {
      "name": "python3",
      "display_name": "Python 3"
    },
    "language_info": {
      "name": "python"
    }
  },
  "cells": [
    {
      "cell_type": "markdown",
      "source": [
        "#Consultas en PySpark con Joins"
      ],
      "metadata": {
        "id": "yhd-4IbBokeN"
      }
    },
    {
      "cell_type": "markdown",
      "source": [
        "#*En este proyecto buscaremos analizar tres datasets relacionales aplicaremos filtrados especificos para analizar y poder responder las preguntas clave en nuestro proyecto, para así denotar los valores de las distintas variables que lo conforman.*\n",
        "\n",
        "*En este proyecto trabajamos con tres tablas en PySpark:\n",
        "• flights_spark: contiene información de vuelos (origen, destino, fechas,\n",
        "retrasos, avión utilizado, etc.).\n",
        "• airports_spark: contiene información de aeropuertos (código FAA, nombre,\n",
        "ciudad, estado, latitud, longitud).\n",
        "• planes_spark: contiene información de aviones (número de cola tailnum,\n",
        "fabricante, modelo, año de fabricación, etc.).*\n",
        "\n",
        "\n",
        "1. Aeropuertos destino más frecuentes\n",
        "2. Mostrar vuelos junto con fabricante del avión\n",
        "3. Vuelos agrupados por fabricante del avión\n",
        "4. Contar vuelos por aeropuerto (origen y destino juntos)\n",
        "5. Promedio de distancia por aeropuerto de origen\n",
        "6. Vuelos de más de 2000 km con modelo del avión\n",
        "7. Número de vuelos por año de fabricación del avión\n",
        "8. Vuelos con origen y destino mostrando ciudad de ambos aeropuertos\n",
        "9. Promedio de retraso de salida por aeropuerto\n",
        "10. Promedio de retraso de llegada por modelo de avión\n",
        "11. Contar vuelos por ciudad origen y destino\n",
        "12. Vuelos con aviones Boeing\n",
        "13. Contar vuelos por fabricante\n",
        "14. Vuelos con más de 2 horas de retraso en salida y llegada\n",
        "15. Promedio de distancia recorrida por fabricante de avión"
      ],
      "metadata": {
        "id": "3g0G1T8ohraC"
      }
    },
    {
      "cell_type": "code",
      "source": [
        "pip install findspark"
      ],
      "metadata": {
        "id": "8C9TWGZCojjL"
      },
      "execution_count": null,
      "outputs": []
    },
    {
      "cell_type": "code",
      "execution_count": null,
      "metadata": {
        "id": "U5S8AlsFoisF"
      },
      "outputs": [],
      "source": [
        "!pip install pyspark"
      ]
    },
    {
      "cell_type": "code",
      "source": [
        "import findspark\n",
        "findspark.init()\n",
        "import pyspark\n",
        "from pyspark.sql import SparkSession\n"
      ],
      "metadata": {
        "id": "DU6MFyhgojw9"
      },
      "execution_count": null,
      "outputs": []
    },
    {
      "cell_type": "code",
      "source": [
        "#Create Spark Session for builder\n",
        "from pyspark.sql import SparkSession\n",
        "spark=SparkSession.builder.master(\"local[1]\")\\\n",
        ".appName(\"SparkByExamples.com\")\\\n",
        ".getOrCreate()\n",
        "print(spark.sparkContext)\n",
        "print(\"Spark App Name :\"+spark.sparkContext.appName)"
      ],
      "metadata": {
        "id": "V2kThW1joj76"
      },
      "execution_count": null,
      "outputs": []
    },
    {
      "cell_type": "code",
      "source": [
        "from google.colab import drive\n",
        "# Montar Google Drive\n",
        "drive.mount('/content/drive', force_remount=True)"
      ],
      "metadata": {
        "id": "jwtfmIXoppJQ"
      },
      "execution_count": null,
      "outputs": []
    },
    {
      "cell_type": "code",
      "source": [
        "import pandas as pd\n",
        "import numpy as np\n",
        "flightsdf = pd.read_csv('/content/drive/MyDrive/Colab Notebooks/flights_small.csv')\n",
        "airportsdf = pd.read_csv('/content/drive/MyDrive/Colab Notebooks/airports.csv')\n",
        "planesdf = pd.read_csv('/content/drive/MyDrive/Colab Notebooks/planes.csv')\n"
      ],
      "metadata": {
        "id": "SzULdGQCppZ-"
      },
      "execution_count": null,
      "outputs": []
    },
    {
      "cell_type": "code",
      "source": [
        "flights_spark = spark.read.csv('/content/drive/MyDrive/Colab Notebooks/flights_small.csv', header= True, inferSchema = True)\n",
        "airports_spark = spark.read.csv('/content/drive/MyDrive/Colab Notebooks/airports.csv', header= True, inferSchema = True)\n",
        "planes_spark = spark.read.csv('/content/drive/MyDrive/Colab Notebooks/planes.csv', header= True, inferSchema = True)"
      ],
      "metadata": {
        "id": "vHjrJvefx7SK"
      },
      "execution_count": null,
      "outputs": []
    },
    {
      "cell_type": "code",
      "source": [
        "flights_spark.show()"
      ],
      "metadata": {
        "id": "L_j9SSrv2v9n"
      },
      "execution_count": null,
      "outputs": []
    },
    {
      "cell_type": "code",
      "source": [
        "airports_spark.show()"
      ],
      "metadata": {
        "id": "2wSl4ZpsLQVa"
      },
      "execution_count": null,
      "outputs": []
    },
    {
      "cell_type": "code",
      "source": [
        "planes_spark.show()"
      ],
      "metadata": {
        "id": "U6plBv-xLQoA"
      },
      "execution_count": null,
      "outputs": []
    },
    {
      "cell_type": "code",
      "source": [
        "flights_spark.createOrReplaceTempView(\"flights\")\n",
        "airports_spark.createOrReplaceTempView(\"airports\")\n",
        "planes_spark.createOrReplaceTempView(\"planes\")"
      ],
      "metadata": {
        "id": "Br_PgkXy28a1"
      },
      "execution_count": null,
      "outputs": []
    },
    {
      "cell_type": "code",
      "source": [
        "spark.catalog.listTables()"
      ],
      "metadata": {
        "id": "RjdPQEt83k8k"
      },
      "execution_count": null,
      "outputs": []
    },
    {
      "cell_type": "code",
      "source": [
        "sqlDF = spark.sql(\"SELECT * FROM flights\")\n",
        "sqlDF.show()"
      ],
      "metadata": {
        "id": "7yF7Kie93lg9"
      },
      "execution_count": null,
      "outputs": []
    },
    {
      "cell_type": "code",
      "source": [
        "query = \"SELECT origin, dest, COUNT(*) as N FROM flights GROUP BY origin, dest\"\n",
        "# Run the query\n",
        "flights_counts = spark.sql(query)\n",
        "# Convert the results to a pandas DataFrame\n",
        "pd_counts = flights_counts.toPandas()\n",
        "# Print the head of pd_counts\n",
        "print(pd_counts.head())"
      ],
      "metadata": {
        "id": "83tFvPSd3l1E"
      },
      "execution_count": null,
      "outputs": []
    },
    {
      "cell_type": "code",
      "source": [
        "flights_spark.join(airports_spark, flights_spark.origin == airports_spark.faa)\\\n",
        ".select(\"year\", \"month\", \"day\", \"origin\", \"dest\", \"name\")\\\n",
        ".show(10)"
      ],
      "metadata": {
        "id": "01BV33F23_6K"
      },
      "execution_count": null,
      "outputs": []
    },
    {
      "cell_type": "code",
      "source": [
        "from pyspark.sql import functions as F\n",
        "#Agrupar por Origen y destino , y contar\n",
        "flights_counts = flights_spark.groupBy(\"origin\", \"dest\").agg(F.count(\"*\").alias(\"N\"))\n",
        "#Convertir a pandas\n",
        "pd_counts = flights_counts.toPandas()\n",
        "#Imprimir las 10 primeras filas\n",
        "print(pd_counts.head())"
      ],
      "metadata": {
        "id": "VK0nu-Ub4AG0"
      },
      "execution_count": null,
      "outputs": []
    },
    {
      "cell_type": "markdown",
      "source": [
        "#Aeropuertos destino más frecuentes"
      ],
      "metadata": {
        "id": "VLO3sYLyFZgf"
      }
    },
    {
      "cell_type": "code",
      "source": [
        "\n",
        "\n",
        "flights_with_dest_airport_names = flights_spark.join(airports_spark, flights_spark.dest == airports_spark.faa)\n",
        "most_frequent_dest_airports = flights_with_dest_airport_names.groupBy(airports_spark.name).agg(F.count(\"*\").alias(\"count\"))\n",
        "most_frequent_dest_airports\\\n",
        ".orderBy(\"count\", ascending=False)\\\n",
        ".show(10)"
      ],
      "metadata": {
        "id": "p_wLTUWZIIi1"
      },
      "execution_count": null,
      "outputs": []
    },
    {
      "cell_type": "markdown",
      "source": [
        "#Mostrar vuelos junto con fabricante del avión"
      ],
      "metadata": {
        "id": "Ua26MNOQJWvt"
      }
    },
    {
      "cell_type": "code",
      "source": [
        "flights_spark.join(planes_spark, flights_spark.tailnum == planes_spark.tailnum)\\\n",
        ".select(\"flight\",\"origin\", \"dest\", \"manufacturer\")\\\n",
        ".show(10)"
      ],
      "metadata": {
        "id": "-W-OLyqHKHUL"
      },
      "execution_count": null,
      "outputs": []
    },
    {
      "cell_type": "markdown",
      "source": [
        "#Vuelos agrupados por fabricante del avión"
      ],
      "metadata": {
        "id": "Ul4DZhP5Np9W"
      }
    },
    {
      "cell_type": "code",
      "source": [
        "from pyspark.sql import functions as F\n",
        "\n",
        "\n",
        "flights_with_manufacturer = flights_spark.join(planes_spark, flights_spark.tailnum == planes_spark.tailnum)\n",
        "\n",
        "\n",
        "flights_by_manufacturer = flights_with_manufacturer.groupBy(\"manufacturer\").agg(F.count(\"*\").alias(\"count\"))\n",
        "\n",
        "flights_by_manufacturer.orderBy(\"count\", ascending=False).show()"
      ],
      "metadata": {
        "id": "Ll2brp-yNqQO"
      },
      "execution_count": null,
      "outputs": []
    },
    {
      "cell_type": "markdown",
      "metadata": {
        "id": "970a74df"
      },
      "source": [
        "# Conteo de vuelos por aeropuerto (origen y destino)"
      ]
    },
    {
      "cell_type": "code",
      "metadata": {
        "id": "efb2841b"
      },
      "source": [
        "all_airports_df = flights_spark.selectExpr(\"origin as airport\").unionAll(flights_spark.selectExpr(\"dest as airport\"))\n",
        "airport_counts_df_api = all_airports_df.groupBy(\"airport\").agg(F.count(\"*\").alias(\"flight_count\"))\n",
        "airport_counts_df_api.orderBy(\"flight_count\", ascending=False).show()"
      ],
      "execution_count": null,
      "outputs": []
    },
    {
      "cell_type": "markdown",
      "source": [
        "#Promedio de distancia por aeropuerto de origen"
      ],
      "metadata": {
        "id": "FkX6CjQkfiiG"
      }
    },
    {
      "cell_type": "code",
      "source": [
        "\n",
        "avg_distance_by_origin = flights_spark.groupBy(\"origin\").agg(F.avg(\"distance\").alias(\"average_distance\"))\n",
        "avg_distance_by_origin.orderBy(\"average_distance\", ascending=False).show(10)"
      ],
      "metadata": {
        "id": "519vkdyteA8V"
      },
      "execution_count": null,
      "outputs": []
    },
    {
      "cell_type": "markdown",
      "source": [
        "#Vuelos de más de 2000 km con modelo del avión"
      ],
      "metadata": {
        "id": "j8nnJUlFge2y"
      }
    },
    {
      "cell_type": "code",
      "source": [
        "\n",
        "long_distance_flights = flights_spark.filter(flights_spark.distance > 2000)\n",
        "flights_with_model = long_distance_flights.join(planes_spark, long_distance_flights.tailnum == planes_spark.tailnum)\n",
        "flights_with_model.select(\"flight\",\"distance\", \"model\").show()"
      ],
      "metadata": {
        "id": "Ej11lFSTeBIV"
      },
      "execution_count": null,
      "outputs": []
    },
    {
      "cell_type": "markdown",
      "source": [
        "#Número de vuelos por año de fabricación del avión"
      ],
      "metadata": {
        "id": "ofDFXuMmhH1w"
      }
    },
    {
      "cell_type": "code",
      "source": [
        "\n",
        "flights_with_plane_year = flights_spark.join(planes_spark, flights_spark.tailnum == planes_spark.tailnum)\n",
        "flights_by_plane_year = flights_with_plane_year.groupBy(planes_spark.year).agg(F.count(\"*\").alias(\"flight_count\"))\n",
        "flights_by_plane_year.orderBy(planes_spark.year).show()"
      ],
      "metadata": {
        "id": "Ufpnn0d9eBT9"
      },
      "execution_count": null,
      "outputs": []
    },
    {
      "cell_type": "markdown",
      "source": [
        "# Vuelos con origen y destino mostrando ciudad de ambos aeropuertos"
      ],
      "metadata": {
        "id": "WkGY7Jtfhenf"
      }
    },
    {
      "cell_type": "code",
      "source": [
        "\n",
        "sql_query = \"\"\"\n",
        "SELECT\n",
        "  f.flight,\n",
        "  f.origin,\n",
        "  origin_airport.name AS origin_airport_name,\n",
        "  f.dest,\n",
        "  dest_airport.name AS dest_airport_name\n",
        "FROM flights f\n",
        "JOIN airports origin_airport ON f.origin = origin_airport.faa\n",
        "JOIN airports dest_airport ON f.dest = dest_airport.faa\n",
        "\"\"\"\n",
        "\n",
        "\n",
        "spark.sql(sql_query).show()"
      ],
      "metadata": {
        "id": "0SqA-d6dhlSv"
      },
      "execution_count": null,
      "outputs": []
    },
    {
      "cell_type": "markdown",
      "source": [
        "#Promedio de retraso de salida por aeropuerto."
      ],
      "metadata": {
        "id": "V4-eX_XWh6_2"
      }
    },
    {
      "cell_type": "code",
      "source": [
        "from pyspark.sql import functions as F\n",
        "avg_dep_delay_by_origin = flights_spark.groupBy(\"origin\").agg(F.avg(\"dep_delay\").alias(\"average_departure_delay\"))\n",
        "avg_dep_delay_by_origin.orderBy(\"average_departure_delay\", ascending=False).show()"
      ],
      "metadata": {
        "id": "zsr8jCFeh7Sc"
      },
      "execution_count": null,
      "outputs": []
    },
    {
      "cell_type": "markdown",
      "source": [
        "#Promedio de retraso de llegada por modelo de avión"
      ],
      "metadata": {
        "id": "vdYWvnpKiDBu"
      }
    },
    {
      "cell_type": "code",
      "source": [
        "flights_with_model = flights_spark.join(planes_spark, flights_spark.tailnum == planes_spark.tailnum)\n",
        "avg_arr_delay_by_model = flights_with_model.groupBy(planes_spark.model).agg(F.avg(\"arr_delay\").alias(\"average_arrival_delay\"))\n",
        "avg_arr_delay_by_model.orderBy(\"average_arrival_delay\", ascending=False).show()"
      ],
      "metadata": {
        "id": "8VCMdEF1iDQ0"
      },
      "execution_count": null,
      "outputs": []
    },
    {
      "cell_type": "markdown",
      "source": [
        "#Contar vuelos por ciudad origen y destino"
      ],
      "metadata": {
        "id": "iARJiwFGjJ7y"
      }
    },
    {
      "cell_type": "code",
      "source": [
        "from pyspark.sql import functions as F\n",
        "from pyspark.sql.functions import col # Import col here\n",
        "\n",
        "\n",
        "flight_counts_by_cities = flights_spark.alias(\"f\").join(\n",
        "    airports_spark.alias(\"origin_airport\"),\n",
        "    col(\"f.origin\") == col(\"origin_airport.faa\")\n",
        ").join(\n",
        "    airports_spark.alias(\"dest_airport\"),\n",
        "    col(\"f.dest\") == col(\"dest_airport.faa\")\n",
        ").groupBy(\n",
        "    col(\"origin_airport.name\").alias(\"origin_city\"),\n",
        "    col(\"dest_airport.name\").alias(\"dest_city\")\n",
        ").agg(F.count(\"*\").alias(\"flight_count\"))\n",
        "\n",
        "\n",
        "flight_counts_by_cities.orderBy(\"flight_count\", ascending=False).show()"
      ],
      "metadata": {
        "id": "KajWm_R8jKOS"
      },
      "execution_count": null,
      "outputs": []
    },
    {
      "cell_type": "markdown",
      "source": [
        "#Vuelos con aviones Boeing"
      ],
      "metadata": {
        "id": "QRvbcuNtkCmZ"
      }
    },
    {
      "cell_type": "code",
      "source": [
        "\n",
        "boeing_flights = flights_spark.join(planes_spark, flights_spark.tailnum == planes_spark.tailnum)\\\n",
        ".filter(planes_spark.manufacturer == \"BOEING\")\\\n",
        ".select(flights_spark.tailnum, planes_spark.manufacturer, flights_spark.flight)\n",
        "\n",
        "\n",
        "boeing_flights.show()"
      ],
      "metadata": {
        "id": "z8LmRW4pkC6B"
      },
      "execution_count": null,
      "outputs": []
    },
    {
      "cell_type": "markdown",
      "source": [
        "#Contar vuelos por fabricante"
      ],
      "metadata": {
        "id": "wXyRWwH0k6Y_"
      }
    },
    {
      "cell_type": "code",
      "source": [
        "flights_with_manufacturer = flights_spark.join(planes_spark, flights_spark.tailnum == planes_spark.tailnum)\n",
        "flights_by_manufacturer = flights_with_manufacturer.groupBy(\"manufacturer\").agg(F.count(\"*\").alias(\"count\"))\n",
        "flights_by_manufacturer.orderBy(\"count\", ascending=False).show()"
      ],
      "metadata": {
        "id": "3R4qKe3Yk-7v"
      },
      "execution_count": null,
      "outputs": []
    },
    {
      "cell_type": "markdown",
      "source": [
        "#Vuelos con más de 2 horas de retraso en salida y llegada"
      ],
      "metadata": {
        "id": "LDXdngatlLR_"
      }
    },
    {
      "cell_type": "code",
      "source": [
        "delayed_flights = flights_spark.filter((flights_spark.dep_delay > 120) & (flights_spark.arr_delay > 120))\\\n",
        ".select(flights_spark.dep_delay, flights_spark.arr_delay, flights_spark.flight)\n",
        "\n",
        "delayed_flights.show()"
      ],
      "metadata": {
        "id": "bt1sRsAJlL41"
      },
      "execution_count": null,
      "outputs": []
    },
    {
      "cell_type": "markdown",
      "source": [
        "#Promedio de distancia recorrida por fabricante de avión"
      ],
      "metadata": {
        "id": "A2dXUMxNmR-E"
      }
    },
    {
      "cell_type": "code",
      "source": [
        "\n",
        "flights_with_manufacturer = flights_spark.join(planes_spark, flights_spark.tailnum == planes_spark.tailnum)\n",
        "avg_distance_by_manufacturer = flights_with_manufacturer.groupBy(planes_spark.manufacturer).agg(F.avg(\"distance\").alias(\"average_distance\"))\n",
        "avg_distance_by_manufacturer.orderBy(\"average_distance\", ascending=False).show()"
      ],
      "metadata": {
        "id": "dPLIV0KpmSMt"
      },
      "execution_count": null,
      "outputs": []
    }
  ]
}